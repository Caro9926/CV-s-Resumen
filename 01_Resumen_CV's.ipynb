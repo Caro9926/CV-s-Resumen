{
 "cells": [
  {
   "cell_type": "markdown",
   "metadata": {},
   "source": [
    "#### 0. Autora\n",
    "<br>\n",
    "Carolina Saavedra - carolinasaavedra01@gmail.com\n",
    "<br>\n",
    "\n",
    "#### 1. Título\n",
    "<br>\n",
    "01_Resumen_CV's\n",
    "<br>\n",
    "\n",
    "#### 2. Propósito\n",
    "<br>\n",
    "Este script en Python tiene como propósito automatizar la extracción de información clave desde archivos PDF que contienen currículums (CVs) de postulantes, estructurar esa información y exportarla en un archivo `.xlsx` para análisis, clasificación o gestión posterior.\n",
    "\n",
    "- Identificar y extraer automáticamente secciones importantes como:\n",
    "  - Nombre\n",
    "  - Correo electrónico\n",
    "  - Número de teléfono\n",
    "  - Perfil de LinkedIn\n",
    "  - Formación académica\n",
    "  - Experiencia laboral\n",
    "  - Idiomas\n",
    "  - Actividades extracurriculares\n",
    "- Consolidar todos los datos en un único archivo de Excel (`Resumen_Postulantes.xlsx`).\n",
    "\n",
    "#### 3. ¿Qué hace el script?\n",
    "\n",
    "1. **Recorre todos los archivos PDF** de una carpeta especificada.\n",
    "2. **Extrae el texto completo** de cada archivo.\n",
    "3. **Busca patrones específicos** con expresiones regulares para detectar:\n",
    "   - Correos electrónicos (`@`)\n",
    "   - Números de teléfono (con o sin +51)\n",
    "   - URLs de LinkedIn\n",
    "   - Secciones como “Educación”, “Experiencia”, “Idiomas” o “Voluntariados”, incluso con diferentes variantes de nombre.\n",
    "4. **Crea un diccionario por CV** con todos los datos estructurados.\n",
    "5. **Guarda toda la información en un DataFrame** de pandas.\n",
    "6. **Exporta un archivo de Excel** con todos los datos extraídos.\n",
    "\n",
    "#### 4. Paquetes a instalar\n",
    "Instala las siguientes librerías antes de ejecutar el script:\n",
    "\n",
    "```bash\n",
    "pip install pymupdf pandas openpyxl\n",
    "```\n",
    "\n",
    "#### 5. Instrucciones\n",
    "En el directorio `pdf_folder_path` coloca la dirección donde se encuentren todos los archivos de CV's en formato PDF. \n"
   ]
  },
  {
   "cell_type": "markdown",
   "metadata": {},
   "source": [
    "#### 6. Código"
   ]
  },
  {
   "cell_type": "markdown",
   "metadata": {},
   "source": [
    "#### 6.1. Importar paquetes"
   ]
  },
  {
   "cell_type": "code",
   "execution_count": 1,
   "metadata": {},
   "outputs": [
    {
     "name": "stderr",
     "output_type": "stream",
     "text": [
      "C:\\Users\\CAROLINA\\anaconda3\\lib\\site-packages\\pandas\\core\\computation\\expressions.py:20: UserWarning: Pandas requires version '2.7.3' or newer of 'numexpr' (version '2.7.1' currently installed).\n",
      "  from pandas.core.computation.check import NUMEXPR_INSTALLED\n"
     ]
    }
   ],
   "source": [
    "import fitz \n",
    "import os\n",
    "import re\n",
    "import pandas as pd"
   ]
  },
  {
   "cell_type": "markdown",
   "metadata": {},
   "source": [
    "#### 6.2. Directorio"
   ]
  },
  {
   "cell_type": "code",
   "execution_count": 2,
   "metadata": {},
   "outputs": [],
   "source": [
    "pdf_folder_path = 'C:\\\\Users\\\\CAROLINA\\\\Documents\\\\02_GitHub\\\\CV_Structure' # En esta ruta colocarás todos los CV's "
   ]
  },
  {
   "cell_type": "markdown",
   "metadata": {},
   "source": [
    "#### 6.3. Funciones de automatización"
   ]
  },
  {
   "cell_type": "code",
   "execution_count": 3,
   "metadata": {},
   "outputs": [
    {
     "name": "stdout",
     "output_type": "stream",
     "text": [
      "✅ Excel generado con éxito: Resumen_Postulantes.xlsx\n"
     ]
    }
   ],
   "source": [
    "# Función: Extraer texto de un PDF\n",
    "def extract_text_from_pdf(pdf_path, max_pages=300):\n",
    "    try:\n",
    "        doc = fitz.open(pdf_path)\n",
    "        text = \"\"\n",
    "        for page in doc[:max_pages]:\n",
    "            text += page.get_text(\"text\")\n",
    "        doc.close()\n",
    "        return text\n",
    "    except Exception as e:\n",
    "        print(f\"❌ Error al abrir {pdf_path}: {e}\")\n",
    "        return \"\"\n",
    "\n",
    "# Función: Extraer sección del texto\n",
    "def extract_section(text, section_keywords):\n",
    "    lines = text.split(\"\\n\")\n",
    "    section_text = []\n",
    "    collecting = False\n",
    "    keywords = [kw.lower() for kw in section_keywords]\n",
    "\n",
    "    for line in lines:\n",
    "        line_lower = line.strip().lower()\n",
    "        if any(kw in line_lower for kw in keywords):\n",
    "            collecting = True\n",
    "            continue\n",
    "        elif collecting and any(kw in line_lower for kw in [\n",
    "            \"educación\", \"educacion\", \"estudios\", \n",
    "            \"experiencia\", \"idiomas\", \"lenguas\", \"lenguajes\", \n",
    "            \"actividades\", \"voluntariado\", \"otros\"\n",
    "        ]):\n",
    "            break\n",
    "        elif collecting:\n",
    "            section_text.append(line.strip())\n",
    "\n",
    "    return \" \".join(section_text).strip()\n",
    "\n",
    "# Función: Extraer campos clave. Puedes añadir otras palabras clave\n",
    "def extract_fields_from_text(text, filename):\n",
    "    lines = text.strip().split(\"\\n\")\n",
    "    lines = [line.strip() for line in lines if line.strip()]\n",
    "    full_text = \"\\n\".join(lines)\n",
    "\n",
    "    candidate_name = lines[0] if lines else \"\"\n",
    "\n",
    "    email_match = re.search(r'[\\w\\.-]+@[\\w\\.-]+\\.\\w+', full_text)\n",
    "    phone_match = re.search(r'(\\+?\\d[\\d\\s\\-]{7,20})', full_text)\n",
    "    linkedin_match = re.search(r'(linkedin\\.com/in/[^\\s]+)', full_text)\n",
    "\n",
    "    education_text = extract_section(full_text, [\n",
    "        \"educación\", \"educacion\", \"estudios\", \"formación académica\", \"formacion academica\"\n",
    "    ])\n",
    "    experience_text = extract_section(full_text, [\n",
    "        \"experiencia\", \"experiencia laboral\", \"experiencia profesional\", \"trayectoria\", \"historial laboral\", \"EXPERIENCIA\"\n",
    "    ])\n",
    "    language_text = extract_section(full_text, [\n",
    "        \"idiomas\", \"lenguas\", \"lenguajes\", \"competencias lingüísticas\", \"habilidades idiomáticas\"\n",
    "    ])\n",
    "    extras_text = extract_section(full_text, [\n",
    "        \"actividades extracurriculares\", \"voluntariado\", \"voluntariados\", \"otros datos\", \"información adicional\"\n",
    "    ])\n",
    "\n",
    "    fields = {\n",
    "        \"Nombre\": candidate_name or \"\",\n",
    "        \"Correo\": email_match.group() if email_match else \"\",\n",
    "        \"Teléfono\": phone_match.group() if phone_match else \"\",\n",
    "        \"LinkedIn\": linkedin_match.group() if linkedin_match else \"\",\n",
    "        \"Educación\": education_text or \"\",\n",
    "        \"Experiencia\": experience_text or \"\",\n",
    "        \"Idiomas\": language_text or \"\",\n",
    "        \"Extras\": extras_text or \"\",\n",
    "        \"Archivo\": filename\n",
    "    }\n",
    "    return fields\n",
    "\n",
    "# Función principal: Procesar todos los PDFs y generar CSV\n",
    "def process_pdfs_to_dataframe(folder_path, max_pages=300):\n",
    "    data = []\n",
    "    for filename in os.listdir(folder_path):\n",
    "        if filename.lower().endswith(\".pdf\"):\n",
    "            pdf_path = os.path.join(folder_path, filename)\n",
    "            text = extract_text_from_pdf(pdf_path, max_pages)\n",
    "            fields = extract_fields_from_text(text, filename)\n",
    "            data.append(fields)\n",
    "\n",
    "    df = pd.DataFrame(data)\n",
    "    expected_cols = [\"Nombre\", \"Correo\", \"Teléfono\", \"LinkedIn\", \"Educación\", \"Experiencia\", \"Idiomas\", \"Extras\", \"Archivo\"]\n",
    "    for col in expected_cols:\n",
    "        if col not in df.columns:\n",
    "            df[col] = \"\"\n",
    "    df = df[expected_cols]\n",
    "    return df\n",
    "\n",
    "# Ejecutar. Puedes cambiar el nombre del archivo si deseas.\n",
    "if __name__ == \"__main__\":\n",
    "    df_resultado = process_pdfs_to_dataframe(pdf_folder_path)\n",
    "    df_resultado.to_excel(os.path.join(pdf_folder_path, \"Resumen_Postulantes.xlsx\"), index=False, engine='openpyxl')\n",
    "    print(\"✅ Excel generado con éxito: Resumen_Postulantes.xlsx\")"
   ]
  },
  {
   "cell_type": "code",
   "execution_count": null,
   "metadata": {},
   "outputs": [],
   "source": []
  }
 ],
 "metadata": {
  "kernelspec": {
   "display_name": "Python 3",
   "language": "python",
   "name": "python3"
  },
  "language_info": {
   "codemirror_mode": {
    "name": "ipython",
    "version": 3
   },
   "file_extension": ".py",
   "mimetype": "text/x-python",
   "name": "python",
   "nbconvert_exporter": "python",
   "pygments_lexer": "ipython3",
   "version": "3.8.5"
  }
 },
 "nbformat": 4,
 "nbformat_minor": 4
}
